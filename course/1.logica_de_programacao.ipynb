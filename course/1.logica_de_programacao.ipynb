{
 "cells": [
  {
   "cell_type": "markdown",
   "metadata": {},
   "source": [
    "# Lógica de programação"
   ]
  },
  {
   "cell_type": "markdown",
   "metadata": {},
   "source": [
    "### 1. Tipos em Python"
   ]
  },
  {
   "cell_type": "code",
   "execution_count": 16,
   "metadata": {},
   "outputs": [
    {
     "name": "stdout",
     "output_type": "stream",
     "text": [
      "inteiro:<class 'int'>\n",
      "decimal:<class 'float'>\n",
      "texto:<class 'str'>\n",
      "tipo:<class 'type'>\n"
     ]
    }
   ],
   "source": [
    "inteiro = 10\n",
    "decimal = 10.1\n",
    "texto = \"string\"\n",
    "tipo = type(texto)\n",
    "\n",
    "print(\"inteiro:{}\".format(type(inteiro)))\n",
    "print(\"decimal:{}\".format(type(decimal)))\n",
    "print(\"texto:{}\".format(type(texto)))\n",
    "print(\"tipo:{}\".format(type(tipo)))"
   ]
  },
  {
   "cell_type": "markdown",
   "metadata": {},
   "source": [
    "### 2. Class Functions"
   ]
  },
  {
   "cell_type": "code",
   "execution_count": 34,
   "metadata": {},
   "outputs": [
    {
     "name": "stdout",
     "output_type": "stream",
     "text": [
      "somar:<class 'function'>\n",
      "Soma de 1+2=\n"
     ]
    },
    {
     "data": {
      "text/plain": [
       "3"
      ]
     },
     "execution_count": 34,
     "metadata": {},
     "output_type": "execute_result"
    }
   ],
   "source": [
    "def somar(a, b):\n",
    "    return a + b\n",
    "\n",
    "print(\"somar:\" + str(type(somar)))\n",
    "\n",
    "print(\"Soma de 1+2=\")\n",
    "somar(1, 2)"
   ]
  },
  {
   "cell_type": "code",
   "execution_count": 44,
   "metadata": {},
   "outputs": [
    {
     "name": "stdout",
     "output_type": "stream",
     "text": [
      "Cachorro:<class 'type'>\n",
      "Cachorro.latir:<class 'function'>\n",
      "snoop_dog:<class '__main__.Cachorro'>\n",
      "sem nome\n",
      "Snoop Dog Dog\n"
     ]
    },
    {
     "data": {
      "text/plain": [
       "'au au au'"
      ]
     },
     "execution_count": 44,
     "metadata": {},
     "output_type": "execute_result"
    }
   ],
   "source": [
    "class Cachorro:\n",
    "    nome = \"sem nome\"\n",
    "    \n",
    "    def latir(self):\n",
    "        latido = \"au au au\"\n",
    "        return latido\n",
    "\n",
    "print(\"Cachorro:\" + str(type(Cachorro)))\n",
    "print(\"Cachorro.latir:\" + str(type(Cachorro.latir)))\n",
    "\n",
    "\n",
    "snoop_dog = Cachorro()\n",
    "print(\"snoop_dog:\" + str(type(snoop_dog)))\n",
    "\n",
    "print(snoop_dog.nome)\n",
    "\n",
    "snoop_dog.nome = \"Snoop Dog Dog\"\n",
    "print(snoop_dog.nome)\n",
    "\n",
    "snoop_dog.latir()"
   ]
  },
  {
   "cell_type": "markdown",
   "metadata": {},
   "source": [
    "### 3. Operações"
   ]
  },
  {
   "cell_type": "markdown",
   "metadata": {},
   "source": [
    "#### Condições\n",
    "\n",
    "\n",
    "\n"
   ]
  },
  {
   "cell_type": "code",
   "execution_count": 66,
   "metadata": {},
   "outputs": [
    {
     "name": "stdout",
     "output_type": "stream",
     "text": [
      "Sim, maior de idade, pois é 18\n",
      "Não, menor de idade, pois é 17\n"
     ]
    }
   ],
   "source": [
    "def idadeParaBeber(idade):\n",
    "    if(idade >= 18):\n",
    "        return \"Sim, maior de idade, pois é \" + str(idade)\n",
    "    else:\n",
    "        return \"Não, menor de idade, pois é \" + str(idade)\n",
    "\n",
    "print(idadeParaBeber(18))\n",
    "print(idadeParaBeber(17))"
   ]
  },
  {
   "cell_type": "markdown",
   "metadata": {},
   "source": [
    "#### Loops"
   ]
  },
  {
   "cell_type": "code",
   "execution_count": 60,
   "metadata": {},
   "outputs": [
    {
     "name": "stdout",
     "output_type": "stream",
     "text": [
      "0\n",
      "1\n",
      "2\n",
      "3\n",
      "4\n",
      "5\n",
      "6\n",
      "7\n",
      "8\n",
      "9\n"
     ]
    }
   ],
   "source": [
    "for i in range(10):\n",
    "    print(i)"
   ]
  },
  {
   "cell_type": "code",
   "execution_count": 77,
   "metadata": {},
   "outputs": [
    {
     "name": "stdout",
     "output_type": "stream",
     "text": [
      "[<__main__.Pessoa object at 0x7f77403c8278>, <__main__.Pessoa object at 0x7f77403c82e8>, <__main__.Pessoa object at 0x7f77403c8390>, <__main__.Pessoa object at 0x7f77403c83c8>, <__main__.Pessoa object at 0x7f77403c8400>]\n",
      "10\n",
      "Estou um ano mais velho, Meu aniversario de 11\n",
      "11\n",
      "19\n",
      "Estou um ano mais velho, Meu aniversario de 20\n",
      "20\n",
      "20\n",
      "Estou um ano mais velho, Meu aniversario de 21\n",
      "21\n",
      "50\n",
      "Estou um ano mais velho, Meu aniversario de 51\n",
      "51\n",
      "17\n",
      "Estou um ano mais velho, Meu aniversario de 18\n",
      "18\n"
     ]
    }
   ],
   "source": [
    "class Pessoa:\n",
    "    idade = 0\n",
    "\n",
    "    def falarIdade(self):\n",
    "        print(str(self.idade))\n",
    "    \n",
    "    def ficarMaisVelho(self):\n",
    "        self.idade += 1\n",
    "        print(\"Estou um ano mais velho, Meu aniversario de \" + str(self.idade))\n",
    "    \n",
    "def criaPessoa(idade):\n",
    "    pessoa = Pessoa()\n",
    "    pessoa.idade = idade\n",
    "    return pessoa\n",
    "\n",
    "\n",
    "listaDePessoa = [criaPessoa(10), criaPessoa(19), criaPessoa(20), criaPessoa(50), criaPessoa(17)]\n",
    "print(listaDePessoa)\n",
    "\n",
    "for pessoa in listaDePessoa:\n",
    "    pessoa.falarIdade()\n",
    "    pessoa.ficarMaisVelho()\n",
    "    pessoa.falarIdade()"
   ]
  },
  {
   "cell_type": "code",
   "execution_count": null,
   "metadata": {},
   "outputs": [],
   "source": []
  }
 ],
 "metadata": {
  "kernelspec": {
   "display_name": "Python 3",
   "language": "python",
   "name": "python3"
  },
  "language_info": {
   "codemirror_mode": {
    "name": "ipython",
    "version": 3
   },
   "file_extension": ".py",
   "mimetype": "text/x-python",
   "name": "python",
   "nbconvert_exporter": "python",
   "pygments_lexer": "ipython3",
   "version": "3.6.13"
  }
 },
 "nbformat": 4,
 "nbformat_minor": 2
}
